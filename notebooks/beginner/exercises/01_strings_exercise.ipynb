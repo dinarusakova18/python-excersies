{
 "cells": [
  {
   "cell_type": "markdown",
   "metadata": {},
   "source": [
    "# 1. Fill missing pieces\n",
    "Fill `____` pieces below to have correct values for `lower_cased`, `stripped` and `stripped_lower_case` variables."
   ]
  },
  {
   "cell_type": "code",
   "execution_count": 8,
   "metadata": {
    "ExecuteTime": {
     "end_time": "2024-03-20T20:01:47.729580Z",
     "start_time": "2024-03-20T20:01:47.722653Z"
    }
   },
   "outputs": [
    {
     "name": "stdout",
     "output_type": "stream",
     "text": [
      " Python strings are COOL! \n"
     ]
    }
   ],
   "source": [
    "original = \" Python strings are COOL! \"\n",
    "lower_cased = original.lower()\n",
    "stripped = original.strip()\n",
    "stripped_lower_cased = original.lower().strip()\n",
    "print(original)"
   ]
  },
  {
   "cell_type": "markdown",
   "metadata": {},
   "source": [
    "Let's verify that the implementation is correct by running the cell below. `assert` will raise `AssertionError` if the statement is not true.  "
   ]
  },
  {
   "cell_type": "code",
   "execution_count": 9,
   "metadata": {
    "editable": false,
    "ExecuteTime": {
     "end_time": "2024-03-20T20:01:50.053486Z",
     "start_time": "2024-03-20T20:01:50.050185Z"
    }
   },
   "outputs": [],
   "source": [
    "assert lower_cased == \" python strings are cool! \"\n",
    "assert stripped == \"Python strings are COOL!\"\n",
    "assert stripped_lower_cased == \"python strings are cool!\""
   ]
  },
  {
   "cell_type": "markdown",
   "metadata": {},
   "source": [
    "# 2. Prettify ugly string\n",
    "Use `str` methods to convert `ugly` to wanted `pretty`."
   ]
  },
  {
   "cell_type": "code",
   "execution_count": 10,
   "metadata": {
    "editable": false,
    "ExecuteTime": {
     "end_time": "2024-03-20T20:15:28.377912Z",
     "start_time": "2024-03-20T20:15:28.372317Z"
    }
   },
   "outputs": [],
   "source": [
    "ugly = \" tiTle of MY new Book\\n\\n\""
   ]
  },
  {
   "cell_type": "code",
   "execution_count": 20,
   "metadata": {
    "ExecuteTime": {
     "end_time": "2024-03-20T20:21:28.227300Z",
     "start_time": "2024-03-20T20:21:28.223878Z"
    }
   },
   "outputs": [
    {
     "name": "stdout",
     "output_type": "stream",
     "text": [
      "Title Of My New Book\n"
     ]
    }
   ],
   "source": [
    "# Your implementation:\n",
    "pretty = ugly.lower().strip().title()\n",
    "print(pretty)"
   ]
  },
  {
   "cell_type": "markdown",
   "metadata": {},
   "source": [
    "Let's make sure that it does what we want. `assert` raises [`AssertionError`](https://docs.python.org/3/library/exceptions.html#AssertionError) if the statement is not `True`."
   ]
  },
  {
   "cell_type": "code",
   "execution_count": 21,
   "metadata": {
    "editable": false,
    "ExecuteTime": {
     "end_time": "2024-03-20T20:21:30.898824Z",
     "start_time": "2024-03-20T20:21:30.895279Z"
    }
   },
   "outputs": [
    {
     "name": "stdout",
     "output_type": "stream",
     "text": [
      "pretty: Title Of My New Book\n"
     ]
    }
   ],
   "source": [
    "print(f\"pretty: {pretty}\")\n",
    "assert pretty == \"Title Of My New Book\""
   ]
  },
  {
   "cell_type": "markdown",
   "metadata": {},
   "source": [
    "# 3. Format string based on existing variables\n",
    "Create `sentence` by using `verb`, `language`, and `punctuation` and any other strings you may need."
   ]
  },
  {
   "cell_type": "code",
   "execution_count": 22,
   "metadata": {
    "editable": false,
    "ExecuteTime": {
     "end_time": "2024-03-20T20:25:05.999331Z",
     "start_time": "2024-03-20T20:25:05.993012Z"
    }
   },
   "outputs": [],
   "source": [
    "verb = \"is\"\n",
    "language = \"Python\"\n",
    "punctuation = \"!\"\n",
    "noun1 = \"Learning\"\n",
    "noun2 = \"fun\""
   ]
  },
  {
   "cell_type": "code",
   "execution_count": 26,
   "metadata": {
    "ExecuteTime": {
     "end_time": "2024-03-20T20:26:20.189426Z",
     "start_time": "2024-03-20T20:26:20.183058Z"
    }
   },
   "outputs": [
    {
     "name": "stdout",
     "output_type": "stream",
     "text": [
      "Learning Python is fun!\n"
     ]
    }
   ],
   "source": [
    "# Your implementation:\n",
    "sentence = noun1 + ' ' + language + ' ' + verb + ' ' + noun2 + punctuation\n",
    "print(sentence) "
   ]
  },
  {
   "cell_type": "code",
   "execution_count": 28,
   "metadata": {
    "editable": false,
    "ExecuteTime": {
     "end_time": "2024-03-20T20:26:26.882606Z",
     "start_time": "2024-03-20T20:26:26.878189Z"
    }
   },
   "outputs": [
    {
     "name": "stdout",
     "output_type": "stream",
     "text": [
      "sentence: Learning Python is fun!\n"
     ]
    }
   ],
   "source": [
    "print(f\"sentence: {sentence}\")\n",
    "assert sentence == \"Learning Python is fun!\""
   ]
  },
  {
   "cell_type": "code",
   "outputs": [],
   "source": [],
   "metadata": {
    "collapsed": false
   }
  }
 ],
 "metadata": {
  "kernelspec": {
   "display_name": "Python 3",
   "language": "python",
   "name": "python3"
  },
  "language_info": {
   "codemirror_mode": {
    "name": "ipython",
    "version": 3
   },
   "file_extension": ".py",
   "mimetype": "text/x-python",
   "name": "python",
   "nbconvert_exporter": "python",
   "pygments_lexer": "ipython3",
   "version": "3.5.4"
  }
 },
 "nbformat": 4,
 "nbformat_minor": 1
}
