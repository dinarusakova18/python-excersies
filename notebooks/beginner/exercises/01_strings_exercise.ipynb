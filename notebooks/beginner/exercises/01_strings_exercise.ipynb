{
 "cells": [
  {
   "cell_type": "markdown",
   "metadata": {},
   "source": [
    "# 1. Fill missing pieces\n",
    "Fill `____` pieces below to have correct values for `lower_cased`, `stripped` and `stripped_lower_case` variables."
   ]
  },
  {
   "cell_type": "code",
   "execution_count": 18,
   "metadata": {
    "ExecuteTime": {
     "end_time": "2024-03-20T21:04:32.088011Z",
     "start_time": "2024-03-20T21:04:32.083391Z"
    }
   },
   "outputs": [
    {
     "name": "stdout",
     "output_type": "stream",
     "text": [
      " Python strings are COOL! \n"
     ]
    }
   ],
   "source": [
    "original = \" Python strings are COOL! \"\n",
    "lower_cased = original.lower()\n",
    "stripped = original.strip()\n",
    "stripped_lower_cased = original.lower().strip()\n",
    "print(original)"
   ]
  },
  {
   "cell_type": "markdown",
   "metadata": {},
   "source": [
    "Let's verify that the implementation is correct by running the cell below. `assert` will raise `AssertionError` if the statement is not true.  "
   ]
  },
  {
   "cell_type": "code",
   "execution_count": 19,
   "metadata": {
    "editable": false,
    "ExecuteTime": {
     "end_time": "2024-03-20T21:04:33.217905Z",
     "start_time": "2024-03-20T21:04:33.214869Z"
    }
   },
   "outputs": [],
   "source": [
    "assert lower_cased == \" python strings are cool! \"\n",
    "assert stripped == \"Python strings are COOL!\"\n",
    "assert stripped_lower_cased == \"python strings are cool!\""
   ]
  },
  {
   "cell_type": "markdown",
   "metadata": {},
   "source": [
    "# 2. Prettify ugly string\n",
    "Use `str` methods to convert `ugly` to wanted `pretty`."
   ]
  },
  {
   "cell_type": "code",
   "execution_count": 20,
   "metadata": {
    "editable": false,
    "ExecuteTime": {
     "end_time": "2024-03-20T21:04:34.280625Z",
     "start_time": "2024-03-20T21:04:34.278330Z"
    }
   },
   "outputs": [],
   "source": [
    "ugly = \" tiTle of MY new Book\\n\\n\""
   ]
  },
  {
   "cell_type": "code",
   "execution_count": 21,
   "metadata": {
    "ExecuteTime": {
     "end_time": "2024-03-20T21:04:34.928429Z",
     "start_time": "2024-03-20T21:04:34.924971Z"
    }
   },
   "outputs": [
    {
     "name": "stdout",
     "output_type": "stream",
     "text": [
      "Title Of My New Book\n"
     ]
    }
   ],
   "source": [
    "# Your implementation:\n",
    "pretty = ugly.lower().strip().title()\n",
    "print(pretty)"
   ]
  },
  {
   "cell_type": "markdown",
   "metadata": {},
   "source": [
    "Let's make sure that it does what we want. `assert` raises [`AssertionError`](https://docs.python.org/3/library/exceptions.html#AssertionError) if the statement is not `True`."
   ]
  },
  {
   "cell_type": "code",
   "execution_count": 22,
   "metadata": {
    "editable": false,
    "ExecuteTime": {
     "end_time": "2024-03-20T21:04:36.153668Z",
     "start_time": "2024-03-20T21:04:36.149988Z"
    }
   },
   "outputs": [
    {
     "name": "stdout",
     "output_type": "stream",
     "text": [
      "pretty: Title Of My New Book\n"
     ]
    }
   ],
   "source": [
    "print(f\"pretty: {pretty}\")\n",
    "assert pretty == \"Title Of My New Book\""
   ]
  },
  {
   "cell_type": "markdown",
   "metadata": {},
   "source": [
    "# 3. Format string based on existing variables\n",
    "Create `sentence` by using `verb`, `language`, and `punctuation` and any other strings you may need."
   ]
  },
  {
   "cell_type": "code",
   "execution_count": 23,
   "metadata": {
    "editable": false,
    "ExecuteTime": {
     "end_time": "2024-03-20T21:04:38.201405Z",
     "start_time": "2024-03-20T21:04:38.198155Z"
    }
   },
   "outputs": [],
   "source": [
    "verb = \"is\"\n",
    "language = \"Python\"\n",
    "punctuation = \"!\"\n",
    "noun1 = \"Learning\"\n",
    "noun2 = \"fun\""
   ]
  },
  {
   "cell_type": "code",
   "execution_count": 24,
   "metadata": {
    "ExecuteTime": {
     "end_time": "2024-03-20T21:04:38.841184Z",
     "start_time": "2024-03-20T21:04:38.837477Z"
    }
   },
   "outputs": [
    {
     "name": "stdout",
     "output_type": "stream",
     "text": [
      "Learning Python is fun!\n"
     ]
    }
   ],
   "source": [
    "# Your implementation:\n",
    "sentence = noun1 + ' ' + language + ' ' + verb + ' ' + noun2 + punctuation\n",
    "print(sentence) "
   ]
  },
  {
   "cell_type": "code",
   "execution_count": 25,
   "metadata": {
    "editable": false,
    "ExecuteTime": {
     "end_time": "2024-03-20T21:04:39.695911Z",
     "start_time": "2024-03-20T21:04:39.692831Z"
    }
   },
   "outputs": [
    {
     "name": "stdout",
     "output_type": "stream",
     "text": [
      "sentence: Learning Python is fun!\n"
     ]
    }
   ],
   "source": [
    "print(f\"sentence: {sentence}\")\n",
    "assert sentence == \"Learning Python is fun!\""
   ]
  },
  {
   "cell_type": "code",
   "outputs": [],
   "source": [],
   "metadata": {
    "collapsed": false
   }
  }
 ],
 "metadata": {
  "kernelspec": {
   "display_name": "Python 3",
   "language": "python",
   "name": "python3"
  },
  "language_info": {
   "codemirror_mode": {
    "name": "ipython",
    "version": 3
   },
   "file_extension": ".py",
   "mimetype": "text/x-python",
   "name": "python",
   "nbconvert_exporter": "python",
   "pygments_lexer": "ipython3",
   "version": "3.5.4"
  }
 },
 "nbformat": 4,
 "nbformat_minor": 1
}
