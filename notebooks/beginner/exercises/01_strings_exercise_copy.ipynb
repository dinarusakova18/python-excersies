{
 "cells": [
  {
   "cell_type": "markdown",
   "source": [
    "# 1. Fill missing pieces\n",
    "Fill `____` pieces below to have correct values for `lower_cased`, `stripped` and `stripped_lower_case` variables."
   ],
   "metadata": {
    "collapsed": false
   },
   "id": "4c05d5de3fa6b550"
  },
  {
   "cell_type": "code",
   "outputs": [
    {
     "name": "stdout",
     "output_type": "stream",
     "text": [
      " Python strings are COOL! \n"
     ]
    }
   ],
   "source": [
    "original = \" Python strings are COOL! \"\n",
    "lower_cased = original.lower()\n",
    "stripped = original.strip()\n",
    "stripped_lower_cased = original.lower().strip()\n",
    "print(original)"
   ],
   "metadata": {
    "collapsed": false,
    "ExecuteTime": {
     "end_time": "2024-03-20T21:12:33.893515Z",
     "start_time": "2024-03-20T21:12:33.887973Z"
    }
   },
   "id": "bd0eeb4dc9545d32",
   "execution_count": 21
  },
  {
   "cell_type": "markdown",
   "source": [
    "Let's verify that the implementation is correct by running the cell below. `assert` will raise `AssertionError` if the statement is not true.  "
   ],
   "metadata": {
    "collapsed": false
   },
   "id": "15de2d4a2810e656"
  },
  {
   "cell_type": "code",
   "outputs": [],
   "source": [
    "assert lower_cased == \" python strings are cool! \"\n",
    "assert stripped == \"Python strings are COOL!\"\n",
    "assert stripped_lower_cased == \"python strings are cool!\""
   ],
   "metadata": {
    "collapsed": false,
    "ExecuteTime": {
     "end_time": "2024-03-20T21:12:33.898655Z",
     "start_time": "2024-03-20T21:12:33.896413Z"
    }
   },
   "id": "ea80fe3fa4991ba5",
   "execution_count": 22
  },
  {
   "cell_type": "markdown",
   "source": [
    "# 2. Prettify ugly string\n",
    "Use `str` methods to convert `ugly` to wanted `pretty`."
   ],
   "metadata": {
    "collapsed": false
   },
   "id": "e7bd636bf2954a70"
  },
  {
   "cell_type": "code",
   "outputs": [],
   "source": [
    "ugly = \" tiTle of MY new Book\\n\\n\""
   ],
   "metadata": {
    "collapsed": false,
    "ExecuteTime": {
     "end_time": "2024-03-20T21:12:33.917689Z",
     "start_time": "2024-03-20T21:12:33.913815Z"
    }
   },
   "id": "fec009c34f7fcc7e",
   "execution_count": 23
  },
  {
   "cell_type": "code",
   "outputs": [
    {
     "name": "stdout",
     "output_type": "stream",
     "text": [
      "Title Of My New Book\n"
     ]
    }
   ],
   "source": [
    "# Your implementation:\n",
    "pretty = ugly.lower().strip().title()\n",
    "print(pretty)"
   ],
   "metadata": {
    "collapsed": false,
    "ExecuteTime": {
     "end_time": "2024-03-20T21:12:33.934429Z",
     "start_time": "2024-03-20T21:12:33.931295Z"
    }
   },
   "id": "c2fcedc24689b2ca",
   "execution_count": 24
  },
  {
   "cell_type": "markdown",
   "source": [
    "Let's make sure that it does what we want. `assert` raises [`AssertionError`](https://docs.python.org/3/library/exceptions.html#AssertionError) if the statement is not `True`."
   ],
   "metadata": {
    "collapsed": false
   },
   "id": "18bce9de0e37245"
  },
  {
   "cell_type": "code",
   "outputs": [
    {
     "name": "stdout",
     "output_type": "stream",
     "text": [
      "pretty: Title Of My New Book\n"
     ]
    }
   ],
   "source": [
    "print(f\"pretty: {pretty}\")\n",
    "assert pretty == \"Title Of My New Book\""
   ],
   "metadata": {
    "collapsed": false,
    "ExecuteTime": {
     "end_time": "2024-03-20T21:12:33.937158Z",
     "start_time": "2024-03-20T21:12:33.935383Z"
    }
   },
   "id": "a5080db41fe5974b",
   "execution_count": 25
  },
  {
   "cell_type": "markdown",
   "source": [
    "# 3. Format string based on existing variables\n",
    "Create `sentence` by using `verb`, `language`, and `punctuation` and any other strings you may need."
   ],
   "metadata": {
    "collapsed": false
   },
   "id": "5c19980bf3bdcbe5"
  },
  {
   "cell_type": "code",
   "outputs": [],
   "source": [
    "verb = \"is\"\n",
    "language = \"Python\"\n",
    "punctuation = \"!\"\n",
    "noun1 = \"Learning\"\n",
    "noun2 = \"fun\""
   ],
   "metadata": {
    "collapsed": false,
    "ExecuteTime": {
     "end_time": "2024-03-20T21:12:33.940128Z",
     "start_time": "2024-03-20T21:12:33.937722Z"
    }
   },
   "id": "f32bc057efc63e80",
   "execution_count": 26
  },
  {
   "cell_type": "code",
   "outputs": [
    {
     "name": "stdout",
     "output_type": "stream",
     "text": [
      "Learning Python is fun!\n"
     ]
    }
   ],
   "source": [
    "# Your implementation:\n",
    "sentence = noun1 + ' ' + language + ' ' + verb + ' ' + noun2 + punctuation\n",
    "print(sentence) "
   ],
   "metadata": {
    "collapsed": false,
    "ExecuteTime": {
     "end_time": "2024-03-20T21:12:33.944138Z",
     "start_time": "2024-03-20T21:12:33.942086Z"
    }
   },
   "id": "16c67c2a1ae22983",
   "execution_count": 27
  },
  {
   "cell_type": "code",
   "outputs": [
    {
     "name": "stdout",
     "output_type": "stream",
     "text": [
      "sentence: Learning Python is fun!\n"
     ]
    }
   ],
   "source": [
    "print(f\"sentence: {sentence}\")\n",
    "assert sentence == \"Learning Python is fun!\""
   ],
   "metadata": {
    "collapsed": false,
    "ExecuteTime": {
     "end_time": "2024-03-20T21:12:33.948798Z",
     "start_time": "2024-03-20T21:12:33.946321Z"
    }
   },
   "id": "2ee484fd4135faa0",
   "execution_count": 28
  },
  {
   "cell_type": "code",
   "outputs": [],
   "source": [],
   "metadata": {
    "collapsed": false,
    "ExecuteTime": {
     "end_time": "2024-03-20T21:12:33.950807Z",
     "start_time": "2024-03-20T21:12:33.949629Z"
    }
   },
   "id": "1a9d34a782a13f9a",
   "execution_count": 28
  }
 ],
 "metadata": {
  "kernelspec": {
   "display_name": "Python 3",
   "language": "python",
   "name": "python3"
  },
  "language_info": {
   "codemirror_mode": {
    "name": "ipython",
    "version": 2
   },
   "file_extension": ".py",
   "mimetype": "text/x-python",
   "name": "python",
   "nbconvert_exporter": "python",
   "pygments_lexer": "ipython2",
   "version": "2.7.6"
  }
 },
 "nbformat": 4,
 "nbformat_minor": 5
}
