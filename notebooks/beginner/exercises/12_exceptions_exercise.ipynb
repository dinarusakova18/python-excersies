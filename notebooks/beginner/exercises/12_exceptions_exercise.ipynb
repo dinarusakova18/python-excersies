{
 "cells": [
  {
   "cell_type": "markdown",
   "metadata": {},
   "source": [
    "# 1. Dealing with exceptions\n",
    "Fill `____` parts of the implementation below. `sum_of_list` function takes a list as argument and calculates the sum of values in the list. If some element in the list can not be converted to a numeric value, it should be ignored from the sum."
   ]
  },
  {
   "cell_type": "code",
   "execution_count": 11,
   "metadata": {
    "ExecuteTime": {
     "end_time": "2024-03-31T18:19:52.297102Z",
     "start_time": "2024-03-31T18:19:52.290170Z"
    }
   },
   "outputs": [],
   "source": [
    "def sum_of_list(values):\n",
    "    number_sum = 0\n",
    "    for val in values:\n",
    "        try:\n",
    "            numeric_val = float(val)\n",
    "        except (ValueError, TypeError):\n",
    "            continue\n",
    "        number_sum += numeric_val\n",
    "    return number_sum"
   ]
  },
  {
   "cell_type": "code",
   "execution_count": 12,
   "metadata": {
    "editable": false,
    "ExecuteTime": {
     "end_time": "2024-03-31T18:19:52.742604Z",
     "start_time": "2024-03-31T18:19:52.739693Z"
    }
   },
   "outputs": [],
   "source": [
    "list1 = [1, 2, 3]\n",
    "list2 = [\"1\", 2.5, \"3.0\"]\n",
    "list3 = [\"\", \"1\"]\n",
    "list4 = []\n",
    "list5 = [\"John\", \"Doe\", \"was\", \"here\"]\n",
    "nasty_list = [KeyError(), [], dict()]\n",
    "\n",
    "assert sum_of_list(list1) == 6\n",
    "assert sum_of_list(list2) == 6.5\n",
    "assert sum_of_list(list3) == 1\n",
    "assert sum_of_list(list4) == 0\n",
    "assert sum_of_list(list5) == 0\n",
    "assert sum_of_list(nasty_list) == 0"
   ]
  },
  {
   "cell_type": "markdown",
   "metadata": {},
   "source": [
    "# 2. Using custom exceptions\n",
    "Implement `verify_short_string` function which takes a single string as argument. If the length of the input string is more than ten characters, the function should raise `TooLongString` exception (note: you have to create `TooLongString` yourself). The function does not have to return anything.  "
   ]
  },
  {
   "cell_type": "code",
   "execution_count": 22,
   "metadata": {
    "ExecuteTime": {
     "end_time": "2024-03-31T18:53:09.441892Z",
     "start_time": "2024-03-31T18:53:09.437188Z"
    }
   },
   "outputs": [],
   "source": [
    "class TooLongString(Exception):\n",
    "    pass\n",
    "\n",
    "def verify_short_string(input_string):\n",
    "    if len(input_string) > 10:\n",
    "        raise TooLongString(\"Input string is too long\")"
   ]
  },
  {
   "cell_type": "code",
   "execution_count": 23,
   "metadata": {
    "editable": false,
    "ExecuteTime": {
     "end_time": "2024-03-31T18:53:10.463582Z",
     "start_time": "2024-03-31T18:53:10.458660Z"
    }
   },
   "outputs": [
    {
     "name": "stdout",
     "output_type": "stream",
     "text": [
      "Input string is too long\n"
     ]
    }
   ],
   "source": [
    "# These should not raise\n",
    "verify_short_string(\"short\")\n",
    "verify_short_string(\"10   chars\")\n",
    "\n",
    "# This should raise\n",
    "try:\n",
    "    verify_short_string(\"this is long\")\n",
    "except TooLongString as e:\n",
    "    # This is ok\n",
    "    print(\"Input string is too long\")\n",
    "    pass\n",
    "else:\n",
    "    # This means that there was no exception\n",
    "    assert False"
   ]
  }
 ],
 "metadata": {
  "kernelspec": {
   "display_name": "Python 3 (ipykernel)",
   "language": "python",
   "name": "python3"
  },
  "language_info": {
   "codemirror_mode": {
    "name": "ipython",
    "version": 3
   },
   "file_extension": ".py",
   "mimetype": "text/x-python",
   "name": "python",
   "nbconvert_exporter": "python",
   "pygments_lexer": "ipython3",
   "version": "3.11.0"
  }
 },
 "nbformat": 4,
 "nbformat_minor": 2
}
