{
 "cells": [
  {
   "cell_type": "markdown",
   "metadata": {},
   "source": [
    "# 1. `if-elif-else`\n",
    "Fill missing pieces (`____`) of the following code such that prints make sense."
   ]
  },
  {
   "cell_type": "code",
   "execution_count": 26,
   "metadata": {
    "editable": false,
    "ExecuteTime": {
     "end_time": "2024-03-20T21:47:13.797943Z",
     "start_time": "2024-03-20T21:47:13.791780Z"
    }
   },
   "outputs": [],
   "source": [
    "name = \"John Doe\""
   ]
  },
  {
   "cell_type": "code",
   "execution_count": 27,
   "metadata": {
    "ExecuteTime": {
     "end_time": "2024-03-20T21:47:13.804173Z",
     "start_time": "2024-03-20T21:47:13.800134Z"
    }
   },
   "outputs": [
    {
     "name": "stdout",
     "output_type": "stream",
     "text": [
      "Name \"John Doe\" is 8, 9 or 10 chars long\n"
     ]
    }
   ],
   "source": [
    "if len(name) > 20:\n",
    "    print(f'Name \"{name}\" is more than 20 chars long')\n",
    "    length_description = \"long\"\n",
    "elif len(name) > 15:\n",
    "    print(f'Name \"{name}\" is more than 15 chars long')\n",
    "    length_description = \"semi long\"\n",
    "elif len(name) > 10:\n",
    "    print(f'Name \"{name}\" is more than 10 chars long')\n",
    "    length_description = \"semi long\"\n",
    "elif len(name) == 8 or len(name) == 9 or len(name) == 10:\n",
    "    print(f'Name \"{name}\" is 8, 9 or 10 chars long')\n",
    "    length_description = \"semi short\"\n",
    "else:\n",
    "    print(f'Name \"{name}\" is a short name')\n",
    "    length_description = \"short\""
   ]
  },
  {
   "cell_type": "code",
   "execution_count": 28,
   "metadata": {
    "editable": false,
    "ExecuteTime": {
     "end_time": "2024-03-20T21:47:13.808324Z",
     "start_time": "2024-03-20T21:47:13.805082Z"
    }
   },
   "outputs": [],
   "source": [
    "assert length_description == \"semi short\""
   ]
  }
 ],
 "metadata": {
  "kernelspec": {
   "display_name": "Python 3",
   "language": "python",
   "name": "python3"
  },
  "language_info": {
   "codemirror_mode": {
    "name": "ipython",
    "version": 3
   },
   "file_extension": ".py",
   "mimetype": "text/x-python",
   "name": "python",
   "nbconvert_exporter": "python",
   "pygments_lexer": "ipython3",
   "version": "3.5.4"
  }
 },
 "nbformat": 4,
 "nbformat_minor": 2
}
