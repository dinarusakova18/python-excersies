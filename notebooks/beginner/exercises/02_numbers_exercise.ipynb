{
 "cells": [
  {
   "cell_type": "markdown",
   "metadata": {},
   "source": [
    "# 1. Creating formulas\n",
    "Write the following mathematical formula in Python:\n",
    "\n",
    "\\begin{align}\n",
    " result = 6a^3 - \\frac{8b^2 }{4c} + 11\n",
    "\\end{align}\n"
   ]
  },
  {
   "cell_type": "code",
   "execution_count": 1,
   "metadata": {
    "editable": false,
    "ExecuteTime": {
     "end_time": "2024-03-31T19:39:22.098330Z",
     "start_time": "2024-03-31T19:39:22.095912Z"
    }
   },
   "outputs": [],
   "source": [
    "a = 2\n",
    "b = 3\n",
    "c = 2"
   ]
  },
  {
   "cell_type": "code",
   "execution_count": 2,
   "metadata": {
    "ExecuteTime": {
     "end_time": "2024-03-31T19:39:22.100700Z",
     "start_time": "2024-03-31T19:39:22.099204Z"
    }
   },
   "outputs": [],
   "source": [
    "# Your formula here:\n",
    "result = 6 * a**3 - (8 * b**2) / (4 * c) + 11"
   ]
  },
  {
   "cell_type": "code",
   "execution_count": 3,
   "metadata": {
    "editable": false,
    "ExecuteTime": {
     "end_time": "2024-03-31T19:39:22.102718Z",
     "start_time": "2024-03-31T19:39:22.101282Z"
    }
   },
   "outputs": [],
   "source": [
    "assert result == 50"
   ]
  },
  {
   "cell_type": "markdown",
   "metadata": {},
   "source": [
    "# 2. Floating point pitfalls\n",
    "Show that `0.1 + 0.2 == 0.3`"
   ]
  },
  {
   "cell_type": "code",
   "execution_count": 4,
   "metadata": {
    "ExecuteTime": {
     "end_time": "2024-03-31T19:39:22.118524Z",
     "start_time": "2024-03-31T19:39:22.116689Z"
    }
   },
   "outputs": [],
   "source": [
    "# Your solution here\n",
    "a = 0.1\n",
    "b = 0.2\n",
    "c = a + b\n",
    "c = round(c, 2)\n",
    "\n",
    "assert c == 0.3\n",
    "assert round(0.1 + 0.2, 2) == 0.3"
   ]
  }
 ],
 "metadata": {
  "kernelspec": {
   "display_name": "Python 3",
   "language": "python",
   "name": "python3"
  },
  "language_info": {
   "codemirror_mode": {
    "name": "ipython",
    "version": 3
   },
   "file_extension": ".py",
   "mimetype": "text/x-python",
   "name": "python",
   "nbconvert_exporter": "python",
   "pygments_lexer": "ipython3",
   "version": "3.5.4"
  }
 },
 "nbformat": 4,
 "nbformat_minor": 2
}
